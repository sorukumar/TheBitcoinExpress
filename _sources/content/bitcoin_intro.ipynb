{
 "cells": [
  {
   "cell_type": "markdown",
   "id": "8acdb11f-839c-4331-bcac-539655150532",
   "metadata": {},
   "source": [
    "# Bitcoin: Digital Money for the Internet Age\n",
    "\n",
    "Imagine you could send money as easily as sending an email. That's Bitcoin! It's internet money that doesn't need banks. Let's break it down:\n",
    "\n",
    "\n",
    "## How Does Bitcoin Work?\n",
    "\n",
    "Bitcoin works on three big ideas:\n",
    "\n",
    "1. A giant public notebook (the Blockchain)\n",
    "2. Fancy math that keeps everything secure (Cryptography)\n",
    "3. A global puzzle-solving contest (Mining)\n",
    "\n",
    "Let's look at each one:\n",
    "\n"
   ]
  },
  {
   "cell_type": "markdown",
   "id": "f8b1ed48-ca72-4a84-b9cd-94abb5e3a6a4",
   "metadata": {},
   "source": [
    "\n",
    "### 1. The Giant Public Notebook (Blockchain)\n",
    "\n",
    "Think of the blockchain like a big notebook that everyone can see. When you send Bitcoin, it's like writing it down in this notebook. Everyone can check what's written, so it's hard to cheat. Here's how it works:\n",
    "\n",
    "1. Transactions: When someone sends bitcoins, this transaction is written down as an entry in the notebook.\n",
    "\n",
    "2. Blocks: These transactions are grouped together into \"blocks\". Each block is like a page in our notebook.\n",
    "\n",
    "3. Chain: Each new block is connected to the previous one, forming a chain. This is why it's called a \"blockchain\".\n",
    "\n",
    "4. Verification: Everyone can see this chain of blocks, making it easy to verify all transactions and hard to cheat.\n",
    "\n",
    "Let's visualize a simple blockchain:"
   ]
  },
  {
   "cell_type": "code",
   "execution_count": 13,
   "id": "3b53532d-ac68-4659-9700-01d326982710",
   "metadata": {},
   "outputs": [
    {
     "name": "stdout",
     "output_type": "stream",
     "text": [
      "\u001b[94mBlock 0\u001b[0m 🔗 \u001b[94mBlock 1\u001b[0m 🔗 \u001b[94mBlock 2\u001b[0m 🔗 \u001b[94mBlock 3\u001b[0m 🔗 \u001b[94mBlock 4\u001b[0m \n",
      "\n",
      "\u001b[94m┌───────┐\u001b[0m  \u001b[94m┌───────┐\u001b[0m  \u001b[94m┌───────┐\u001b[0m  \u001b[94m┌───────┐\u001b[0m  \u001b[94m┌───────┐\u001b[0m\n",
      "\n",
      "\u001b[94m│ Tx... │\u001b[0m  \u001b[94m│ Tx... │\u001b[0m  \u001b[94m│ Tx... │\u001b[0m  \u001b[94m│ Tx... │\u001b[0m  \u001b[94m│ Tx... │\u001b[0m\n",
      "\n",
      "\u001b[94m└───────┘\u001b[0m  \u001b[94m└───────┘\u001b[0m  \u001b[94m└───────┘\u001b[0m  \u001b[94m└───────┘\u001b[0m  \u001b[94m└───────┘\u001b[0m\n",
      "\n"
     ]
    }
   ],
   "source": [
    "def visualize_blockchain(num_blocks=5):\n",
    "    LIGHT_BLUE = \"\\033[94m\"\n",
    "    RESET = \"\\033[0m\"\n",
    "    \n",
    "    for i in range(num_blocks):\n",
    "        print(f\"{LIGHT_BLUE}Block {i}{RESET} {'🔗 ' if i < num_blocks-1 else ''}\", end=\"\")\n",
    "    print(\"\\n\")\n",
    "    for i in range(num_blocks):\n",
    "        print(f\"{LIGHT_BLUE}┌───────┐{RESET}{'  ' if i < num_blocks-1 else ''}\", end=\"\")\n",
    "    print(\"\\n\")\n",
    "    for i in range(num_blocks):\n",
    "        print(f\"{LIGHT_BLUE}│ Tx... │{RESET}{'  ' if i < num_blocks-1 else ''}\", end=\"\")\n",
    "    print(\"\\n\")\n",
    "    for i in range(num_blocks):\n",
    "        print(f\"{LIGHT_BLUE}└───────┘{RESET}{'  ' if i < num_blocks-1 else ''}\", end=\"\")\n",
    "    print(\"\\n\")\n",
    "\n",
    "visualize_blockchain()"
   ]
  },
  {
   "cell_type": "markdown",
   "id": "9ca59265-8404-434f-944a-86812a918a90",
   "metadata": {},
   "source": [
    "\n",
    "\n",
    "### 2. Fancy Math that Keeps Everything Secure (Cryptography)\n",
    "\n",
    "Bitcoin uses super-strong locks and keys, but they're made of math instead of metal. \n",
    "\n",
    "Cryptography is the magic that keeps Bitcoin secure. It's like having an unbreakable safe for your digital money. "
   ]
  },
  {
   "cell_type": "code",
   "execution_count": 2,
   "id": "d26b32ba-fb64-4547-8540-d5a7b0e61739",
   "metadata": {},
   "outputs": [
    {
     "name": "stdout",
     "output_type": "stream",
     "text": [
      "Message: Hello, Bitcoin!\n",
      "Hash: 8a208c3f523f64f8a52434688d9ca442483cd3007a108fd79325a0fab9b71376\n",
      "\n",
      "Message: Hello, Bitcoin?\n",
      "Hash: 5968a0a38635aa884d2418d7aa739e24747e44f1389c32880b311fcb9772b0db\n",
      "\n",
      "Message: Mining is fun!\n",
      "Hash: 1c2903ee0c4a93f772498caaab84bb77342805203222c3a739d478abde8e9202\n",
      "\n"
     ]
    }
   ],
   "source": [
    "import hashlib\n",
    "\n",
    "def simple_hash(message):\n",
    "    return hashlib.sha256(message.encode()).hexdigest()\n",
    "\n",
    "# Let's try hashing some messages\n",
    "messages = [\"Hello, Bitcoin!\", \"Hello, Bitcoin?\", \"Mining is fun!\"]\n",
    "\n",
    "for msg in messages:\n",
    "    print(f\"Message: {msg}\")\n",
    "    print(f\"Hash: {simple_hash(msg)}\\n\")"
   ]
  },
  {
   "cell_type": "markdown",
   "id": "01a60acb-b05a-4dcd-9f20-67e89953dbdb",
   "metadata": {},
   "source": [
    "See how changing even one character creates a completely different math-lock? This makes Bitcoin very secure.\n",
    "\n",
    "In Bitcoin, cryptography is used for:\n",
    "1. Creating unique addresses (like account numbers)\n",
    "2. Signing transactions (proving you own the bitcoins)\n",
    "3. Linking blocks together in the blockchain\n",
    "\n",
    "At the heart of Bitcoin's cryptography are hash functions. Here is what that makes hash functions super special:\n",
    "\n",
    "1. One-way function: It's easy to calculate the hash of a message, but nearly impossible to go backwards. It's like turning an egg into an omelet - easy to do, but you can't turn the omelet back into an egg!\n",
    "\n",
    "2. Deterministic: The same input always produces the same hash output. If you change even a tiny part of the input, the hash changes completely.\n",
    "\n",
    "3. Avalanche effect: A small change in the input causes a big change in the output. This makes it very hard to guess the input from the output.\n",
    "\n",
    "4. Collision-resistant: It's extremely unlikely to find two different inputs that produce the same hash output.\n",
    "\n"
   ]
  },
  {
   "cell_type": "markdown",
   "id": "e02c8b2a-6c47-4484-ac11-97abab6dad3d",
   "metadata": {},
   "source": [
    "\n",
    "### 3. The Global Puzzle-Solving Contest (Mining)\n",
    "\n",
    "Mining is like a giant, global game of Sudoku. Miners try to solve a tough math problem. The first one to solve it gets to add the next page to our big notebook (the blockchain) and receives some new bitcoins as a reward.\n",
    "\n",
    "1. The Puzzle: Find a special number that makes the block's data create a specific pattern when hashed.\n",
    "2. The Race: Computers worldwide compete to solve this puzzle first.\n",
    "3. The Reward: The winner adds a new block to the blockchain and gets new bitcoins.\n",
    "4. Difficulty Adjustment: The puzzle gets harder or easier to keep solving time around 10 minutes.\n",
    "5. Security Through Energy: The massive computing power needed to win makes cheating extremely difficult.\n",
    "\n",
    "This process keeps Bitcoin running without any central authority, creates new bitcoins, and processes transactions."
   ]
  },
  {
   "cell_type": "markdown",
   "id": "9eaedca5-f952-4213-8774-a4945d5b1298",
   "metadata": {},
   "source": [
    "## What Did We Learn?\n",
    "\n",
    "1. Bitcoin is digital money that works without banks.\n",
    "2. The blockchain is like a big, public notebook of all Bitcoin transactions.\n",
    "3. Cryptography uses fancy math to keep everything secure.\n",
    "4. Mining is how new bitcoins are created and how transactions are added to the blockchain.\n",
    "\n",
    "Bitcoin might seem tricky, but it's just a clever way to make internet money that doesn't need banks. It uses math and computers to keep everything fair and secure."
   ]
  },
  {
   "cell_type": "markdown",
   "id": "9b2af9a9-278f-4f81-a54d-5978358795e8",
   "metadata": {},
   "source": [
    "## Quick Check: Did You Get It?\n",
    "\n",
    "Let's see if you caught the main ideas:\n",
    "\n",
    "1. What's the giant public notebook called? (Hint: It starts with 'B')\n",
    "2. What do we call the worldwide puzzle-solving contest? (Hint: It sounds like digging for gold)\n",
    "3. What kind of super-strong math is used to keep Bitcoin secure? (Hint: It starts with 'C')\n",
    "\n",
    "Think about your answers, then check below!\n",
    "\n",
    "<details>\n",
    "<summary>Click to see the answers</summary>\n",
    "\n",
    "1. Blockchain\n",
    "2. Mining\n",
    "3. Cryptography\n",
    "\n",
    "Great job if you got them all!\n",
    "</details>"
   ]
  },
  {
   "cell_type": "markdown",
   "id": "6c57c8fc-517f-4d8c-8e6e-f80a9565110b",
   "metadata": {},
   "source": [
    "Congratulations on completing the Bitcoin introduction!"
   ]
  }
 ],
 "metadata": {
  "kernelspec": {
   "display_name": "Python 3 (ipykernel)",
   "language": "python",
   "name": "python3"
  },
  "language_info": {
   "codemirror_mode": {
    "name": "ipython",
    "version": 3
   },
   "file_extension": ".py",
   "mimetype": "text/x-python",
   "name": "python",
   "nbconvert_exporter": "python",
   "pygments_lexer": "ipython3",
   "version": "3.12.4"
  }
 },
 "nbformat": 4,
 "nbformat_minor": 5
}

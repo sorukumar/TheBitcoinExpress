{
 "cells": [
  {
   "cell_type": "markdown",
   "id": "2452b5c6-6649-42f6-bc24-66dae9158043",
   "metadata": {},
   "source": [
    "# Bitcoin Wallets: Your Gateway to the Blockchain\n",
    "\n",
    "## What is a Bitcoin Wallet?\n",
    "\n",
    "Think of a Bitcoin wallet like a magical envelope. It can receive money from anyone who knows its address, and it can send money if you know the secret spell (private key). \n",
    "\n",
    "In essence, a Bitcoin wallet is a tool that allows you to interact with the Bitcoin network, enabling you to send and receive Bitcoin securely."
   ]
  },
  {
   "cell_type": "markdown",
   "id": "60c205f2-1c54-4d4f-82d0-30e44e1c2b5f",
   "metadata": {},
   "source": [
    "## The Anatomy of a Wallet\n",
    "\n",
    "A Bitcoin wallet consists of three main components:\n",
    "\n",
    "1. **Private Key**: This is your secret spell. It allows you to access and spend your Bitcoin. Keep it safe!\n",
    "\n",
    "2. **Public Key**: This is derived from your private key and acts like your bank account number. It’s used to receive Bitcoin and verify ownership.\n",
    "\n",
    "3. **Wallet Address**: This is a hashed version of your public key, formatted for easy sharing. It’s what you give to others to send you Bitcoin.\n",
    "\n",
    "### Why Both (public key and wallet address) Are Needed\n",
    "- **Public Key**: Used for encryption and verification, ensuring secure transactions.\n",
    "- **Wallet Address**: A shorter, user-friendly representation of the public key, making it easier to share for receiving funds.\n",
    "\n",
    "Together, they enhance security and usability in the Bitcoin ecosystem.\n",
    "\n"
   ]
  },
  {
   "cell_type": "markdown",
   "id": "c24a5a1b-a859-4100-bc4b-143b4bcffd88",
   "metadata": {},
   "source": [
    "## Deriving Keys and Address\n",
    "\n",
    "Here’s how the components of a Bitcoin wallet relate to each other through hashing:\n",
    "\n",
    "**Private Key  →  ECDSA  →  Public Key  →  SHA-256  →  Hash  →  RIPEMD-160  →  Wallet Address**\n",
    "\n",
    "\n",
    "### Explanation of the Process\n",
    "\n",
    "- **ECDSA**: The algorithm used to generate the public key from the private key.\n",
    "- **Public Key**: Your bank account number in the Bitcoin network.\n",
    "- **SHA-256**: The first hashing step applied to the public key.\n",
    "- **Hash**: The result of the SHA-256 hashing.\n",
    "- **RIPEMD-160**: The second hashing step that produces the wallet address.\n",
    "- **Wallet Address**: The address you share with others to receive Bitcoin."
   ]
  },
  {
   "cell_type": "markdown",
   "id": "764295bb-2607-4d17-92cf-5c3826759bba",
   "metadata": {},
   "source": [
    "## Let’s Create a Wallet!\n",
    "\n",
    "Now, let’s write some code to create a simple Bitcoin wallet. This code will demonstrate how to generate a key pair and create a wallet address."
   ]
  },
  {
   "cell_type": "code",
   "execution_count": 3,
   "id": "6f4ce27b-296e-48b9-83f8-c0b2d86c5739",
   "metadata": {},
   "outputs": [],
   "source": [
    "# !pip install base58 # run it if any of the libraries are not installed\n",
    "import hashlib\n",
    "import ecdsa\n",
    "import base58\n",
    "import matplotlib.pyplot as plt\n",
    "\n",
    "class Wallet:\n",
    "    def __init__(self):\n",
    "        self.private_key, self.public_key = self.generate_key_pair()\n",
    "        self.address = self.generate_address()\n",
    "        self.balance = 0\n",
    "        self.transactions = []\n",
    "\n",
    "    def generate_key_pair(self):\n",
    "        sk = ecdsa.SigningKey.generate(curve=ecdsa.SECP256k1)\n",
    "        vk = sk.get_verifying_key()\n",
    "        return sk.to_string().hex(), vk.to_string().hex()\n",
    "\n",
    "    def generate_address(self):\n",
    "        public_key_bytes = bytes.fromhex(self.public_key)\n",
    "        sha256_hash = hashlib.sha256(public_key_bytes).digest()\n",
    "        ripemd160_hash = hashlib.new('ripemd160', sha256_hash).digest()\n",
    "        version_byte = b'\\x00'\n",
    "        payload = version_byte + ripemd160_hash\n",
    "        checksum = hashlib.sha256(hashlib.sha256(payload).digest()).digest()[:4]\n",
    "        binary_address = payload + checksum\n",
    "        return base58.b58encode(binary_address).decode('utf-8')\n",
    "\n",
    "    def create_transaction(self, recipient_address, amount):\n",
    "        if amount > self.balance:\n",
    "            raise ValueError(\"Not enough funds!\")\n",
    "        \n",
    "        transaction = {\n",
    "            \"from\": self.address,\n",
    "            \"to\": recipient_address,\n",
    "            \"amount\": amount\n",
    "        }\n",
    "        self.balance -= amount\n",
    "        self.transactions.append(transaction)\n",
    "        return transaction"
   ]
  },
  {
   "cell_type": "markdown",
   "id": "814d0357-2d79-4e9b-bbd5-f80bee972a80",
   "metadata": {},
   "source": [
    "### Key Parts of the Code Explained\n",
    "\n",
    "1. **Wallet Class**: Represents a Bitcoin wallet.\n",
    "   - **Attributes**:\n",
    "     - `private_key`: Your secret key for spending Bitcoin.\n",
    "     - `public_key`: Your public key derived from the private key.\n",
    "     - `address`: The wallet address derived from the public key.\n",
    "     - `balance`: The current balance of the wallet.\n",
    "     - `transactions`: A list of transactions made from this wallet.\n",
    "\n",
    "2. **generate_key_pair()**: \n",
    "   - **Purpose**: Generates a new ECDSA key pair for the wallet.\n",
    "   - **Returns**: A private key and a public key.\n",
    "\n",
    "3. **generate_address()**: \n",
    "   - **Purpose**: Creates a wallet address from the public key.\n",
    "   - **Process**: Uses SHA-256 and RIPEMD-160 hashing to derive the address.\n",
    "\n",
    "4. **create_transaction(recipient_address, amount)**: \n",
    "   - **Purpose**: Creates a new transaction to send Bitcoin.\n",
    "   - **Checks**: Ensures there are enough funds before proceeding.\n",
    "   - **Returns**: The transaction details.\n",
    "\n",
    "This code provides a basic understanding of how Bitcoin wallets function and how they interact with the Bitcoin network."
   ]
  },
  {
   "cell_type": "markdown",
   "id": "f97194b6-d496-4efe-971c-df6dff42ca31",
   "metadata": {},
   "source": [
    "## Let’s Create a Wallet and Use It!\n",
    "\n",
    "Now, we’ll create a new wallet and simulate receiving and sending Bitcoin."
   ]
  },
  {
   "cell_type": "code",
   "execution_count": 8,
   "id": "66d337ad-4941-4279-b4ad-0ce29a6261f6",
   "metadata": {},
   "outputs": [
    {
     "name": "stdout",
     "output_type": "stream",
     "text": [
      "Your Bitcoin Address: 18JSicidceLjVGASdU3R4R5VMSiFeaF1aH\n",
      "Sent 0.5 BTC to 1BvBMSEYstWetqTFn5Au4m4GFg7xJaNVN2\n",
      "Sent 1.0 BTC to 3J98t1WpEZ73CNmQviecrnyiWrnqRhWNLy\n",
      "Sent 1.5 BTC to bc1qar0srrr7xfkvy5l643lydnw9re59gtzzwf5mdq\n",
      "Final balance: 7.0 BTC\n"
     ]
    }
   ],
   "source": [
    "# Create a new wallet\n",
    "my_wallet = Wallet()\n",
    "print(f\"Your Bitcoin Address: {my_wallet.address}\")\n",
    "\n",
    "# Let's pretend we received some bitcoin\n",
    "my_wallet.balance = 10\n",
    "\n",
    "# Now let's make some transactions\n",
    "recipients = [\"1BvBMSEYstWetqTFn5Au4m4GFg7xJaNVN2\", \"3J98t1WpEZ73CNmQviecrnyiWrnqRhWNLy\", \"bc1qar0srrr7xfkvy5l643lydnw9re59gtzzwf5mdq\"]\n",
    "for i, recipient in enumerate(recipients, 1):\n",
    "  amount = i * 0.5\n",
    "  try:\n",
    "      tx = my_wallet.create_transaction(recipient, amount)\n",
    "      print(f\"Sent {amount} BTC to {recipient}\")\n",
    "  except ValueError as e:\n",
    "      print(f\"Transaction failed: {e}\")\n",
    "\n",
    "print(f\"Final balance: {my_wallet.balance} BTC\")\n",
    "\n"
   ]
  },
  {
   "cell_type": "markdown",
   "id": "fd98c070-0818-464a-ad8a-3d72036aca49",
   "metadata": {},
   "source": [
    "## Visualizing the Transactions\n",
    "\n",
    "Let’s visualize our transactions to better understand how the wallet interacts with the Bitcoin network.\n",
    "\n",
    "*Note: Understanding the visualization code is not necessary to grasp the core concepts of wallets or Bitcoin. This visualization serves as an additional tool to illustrate the relationship between transactions and wallet balances.*"
   ]
  },
  {
   "cell_type": "code",
   "execution_count": 14,
   "id": "2e8febb9-faa7-4927-99fb-25bfd9012214",
   "metadata": {},
   "outputs": [
    {
     "data": {
      "image/png": "[encoded data removed]",
      "text/plain": [
       "<Figure size 1000x600 with 2 Axes>"
      ]
     },
     "metadata": {},
     "output_type": "display_data"
    }
   ],
   "source": [
    "import matplotlib.pyplot as plt\n",
    "\n",
    "# Prepare data for visualization\n",
    "transaction_amounts = [tx['amount'] for tx in my_wallet.transactions]\n",
    "transaction_numbers = list(range(len(my_wallet.transactions)))  # Convert range to list\n",
    "\n",
    "# Initialize the balance list with the initial balance\n",
    "initial_balance = my_wallet.balance\n",
    "balances = [initial_balance]  # Start with the initial balance\n",
    "\n",
    "# Calculate the balance after each transaction\n",
    "for amount in transaction_amounts:\n",
    "  new_balance = balances[-1] - amount  # Deduct the transaction amount\n",
    "  balances.append(new_balance)\n",
    "\n",
    "# Create a figure with two y-axes\n",
    "fig, ax1 = plt.subplots(figsize=(10, 6))\n",
    "\n",
    "# Plot transaction amounts\n",
    "ax1.bar(transaction_numbers, transaction_amounts, color='lightblue', label='Transaction Amounts (BTC)', alpha=0.7)\n",
    "ax1.set_xlabel(\"Transaction Number\")\n",
    "ax1.set_ylabel(\"Transaction Amount (BTC)\", color='blue')\n",
    "ax1.tick_params(axis='y', labelcolor='blue')\n",
    "ax1.set_xticks(transaction_numbers)\n",
    "# Create a second y-axis for the balance\n",
    "# Use transaction_numbers + [len(transaction_numbers)] to match the length of balances\n",
    "ax2 = ax1.twinx()\n",
    "ax2.step(transaction_numbers + [len(transaction_numbers)], balances, where='post', color='orange', marker='o', label='Balance (BTC)')\n",
    "ax2.set_ylabel(\"Balance (BTC)\", color='orange')\n",
    "ax2.tick_params(axis='y', labelcolor='orange')\n",
    "\n",
    "# Add titles and legends\n",
    "plt.title(\"Your Bitcoin Transactions and Balance Over Time\")\n",
    "ax1.legend(loc='upper left')\n",
    "ax2.legend(loc='upper right')\n",
    "\n",
    "plt.show()"
   ]
  },
  {
   "cell_type": "markdown",
   "id": "52d405d3-e38d-4fbc-b71a-e9fbbe61598b",
   "metadata": {},
   "source": [
    "## What Did We Learn?\n",
    "\n",
    "1. **A Bitcoin wallet is essentially a pair of keys**: A public key (your address) and a private key (your secret spell).\n",
    "\n",
    "2. **The wallet address is derived from the public key**: This involves a series of cryptographic operations.\n",
    "\n",
    "3. **Transactions decrease your wallet balance**: Each time you send Bitcoin, your balance is updated.\n",
    "\n",
    "4. **In real life, transactions aren’t final until they’re included in a mined block**: This ensures that the transaction is secure and verified.\n",
    "\n",
    "5. **You don’t actually store Bitcoin in your wallet**: The wallet stores your keys; the blockchain keeps track of all transactions and balances.\n",
    "\n",
    "6. **Your private key should never be shared**: It’s the spell that allows spending from your address!\n",
    "\n",
    "This simple wallet demonstrates the basic concepts, but real Bitcoin wallets have many more features for security and usability.\n",
    "\n",
    "## Quick Check: Did You Get It?\n",
    "\n",
    "Let’s see if you caught the main ideas about Bitcoin wallets:\n",
    "\n",
    "1. What are the two main keys in a Bitcoin wallet? (Hint: One is public, and one is secret)\n",
    "\n",
    "2. What does the wallet address represent? (Hint: It’s like your bank account number)\n",
    "\n",
    "3. What happens to your balance when you send Bitcoin? (Hint: It decreases)\n",
    "\n",
    "Think about your answers, then check below!\n",
    "\n",
    "<details>\n",
    "<summary>Click to see the answers</summary>\n",
    "\n",
    "1. Public key and private key.\n",
    "2. It represents where you can receive Bitcoin.\n",
    "3. Your balance decreases.\n",
    "\n",
    "Congratulations on completing the wallets chapter!"
   ]
  }
 ],
 "metadata": {
  "kernelspec": {
   "display_name": "Python 3 (ipykernel)",
   "language": "python",
   "name": "python3"
  },
  "language_info": {
   "codemirror_mode": {
    "name": "ipython",
    "version": 3
   },
   "file_extension": ".py",
   "mimetype": "text/x-python",
   "name": "python",
   "nbconvert_exporter": "python",
   "pygments_lexer": "ipython3",
   "version": "3.12.4"
  }
 },
 "nbformat": 4,
 "nbformat_minor": 5
}
